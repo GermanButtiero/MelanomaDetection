{
 "cells": [
  {
   "cell_type": "markdown",
   "metadata": {
    "cell_id": "99fd063a785640cda6495bf4d8d18f5d",
    "deepnote_cell_type": "text-cell-h1",
    "is_collapsed": false,
    "tags": []
   },
   "source": [
    "# FYP Project 2 - Melanoma Detection"
   ]
  },
  {
   "cell_type": "markdown",
   "metadata": {
    "cell_id": "fa8598bc06cc4d5b9418cf4408493844",
    "deepnote_cell_height": 54,
    "deepnote_cell_type": "markdown",
    "tags": []
   },
   "source": [
    "##### Group G: Christina Aftzidis, Germán Buttiero, Hubert Wójcik, Laurids Holme Pedersen and Paula Menshikoff"
   ]
  },
  {
   "cell_type": "markdown",
   "metadata": {
    "cell_id": "de3a6abaf7b94978ad0ff2cf0a973207",
    "deepnote_cell_height": 145.1875,
    "deepnote_cell_type": "markdown",
    "tags": []
   },
   "source": [
    "### How to run this notebook\n",
    "\n",
    "The file paths are stored in a separate Config file. Change the file paths in the Config file before running the notebook. \n",
    "The notebook is written in a way that automatically saves the figures to a separate folder once you run it. If you do not want the figures to be saved, set savefigs to False in the first cell after the imports."
   ]
  },
  {
   "cell_type": "markdown",
   "metadata": {
    "cell_id": "92ff80b9d8b248309ebe5f92902ebbbf",
    "deepnote_cell_height": 122.796875,
    "deepnote_cell_type": "markdown",
    "tags": []
   },
   "source": [
    "### Research Question\n",
    "*Is it possible to predict melanoma from an image of a skin lesion?* \\\n",
    "*Do our classifier's predictions differ for women and men?*"
   ]
  },
  {
   "cell_type": "code",
   "execution_count": 1,
   "metadata": {
    "cell_id": "5d4d9778-c09e-46b9-a509-07d3151a1198",
    "deepnote_cell_height": 531,
    "deepnote_cell_type": "code",
    "deepnote_to_be_reexecuted": false,
    "execution_millis": 3496,
    "execution_start": 1649413250581,
    "source_hash": "91cfa49c",
    "tags": []
   },
   "outputs": [],
   "source": [
    "# Imports\n",
    "import matplotlib.pyplot as plt\n",
    "import pandas as pd\n",
    "import numpy as np\n",
    "import Config\n",
    "import os, sys\n",
    "\n",
    "#imports for data visualization\n",
    "import seaborn as sns\n",
    "import ptitprince as pt \n",
    "\n",
    "#imports for image processing\n",
    "import skimage.io as sk\n",
    "from skimage import morphology\n",
    "from skimage.color import rgb2gray\n",
    "from statsmodels.robust import mad\n",
    "from PIL import Image\n",
    "\n",
    "#imports for classifier \n",
    "from sklearn.model_selection import train_test_split\n",
    "from sklearn.neighbors import KNeighborsClassifier\n",
    "from sklearn.tree import DecisionTreeClassifier\n",
    "from sklearn.metrics import roc_auc_score, accuracy_score, roc_curve, auc, confusion_matrix, balanced_accuracy_score\n",
    "from sklearn.preprocessing import StandardScaler # normalise features\n",
    "from imblearn.over_sampling import RandomOverSampler\n",
    "import pickle"
   ]
  },
  {
   "cell_type": "code",
   "execution_count": 2,
   "metadata": {
    "cell_id": "15cfe82a7f344429ac14576a785b2d6e",
    "deepnote_cell_height": 171,
    "deepnote_cell_type": "code",
    "deepnote_to_be_reexecuted": false,
    "execution_millis": 14,
    "execution_start": 1649413254078,
    "source_hash": "672b791b",
    "tags": []
   },
   "outputs": [],
   "source": [
    "#basis for saving the figures into a separate folder\n",
    "savefigs = True\n",
    "\n",
    "if savefigs:\n",
    "    if not os.path.isdir('../figs'):\n",
    "        os.makedirs('../figs')"
   ]
  },
  {
   "cell_type": "markdown",
   "metadata": {
    "cell_id": "6b45a9c4f1d24f198b2ef8eae9c48108",
    "deepnote_cell_height": 62,
    "deepnote_cell_type": "markdown",
    "tags": []
   },
   "source": [
    "### Dataframes"
   ]
  },
  {
   "cell_type": "code",
   "execution_count": 3,
   "metadata": {
    "cell_id": "0830c5b5220c4ed39cd11e4a1f647b83",
    "deepnote_cell_height": 135,
    "deepnote_cell_type": "code",
    "deepnote_to_be_reexecuted": false,
    "execution_millis": 61,
    "execution_start": 1649413254093,
    "source_hash": "8bd0a36f",
    "tags": []
   },
   "outputs": [],
   "source": [
    "df = pd.read_csv(Config.features_path) #data frame for 150 images\n",
    "\n",
    "mel_df = pd.read_csv(\"../data/example_ground_truth.csv\")\n",
    "df['melanoma'] = mel_df['melanoma']"
   ]
  },
  {
   "cell_type": "markdown",
   "metadata": {
    "cell_id": "82c8b3929d77490ab3fec74114d5c8bb",
    "deepnote_cell_height": 130.796875,
    "deepnote_cell_type": "markdown",
    "owner_user_id": "489f5b75-5670-4ebb-a881-eaa919d81af5",
    "tags": []
   },
   "source": [
    "## Task 0 - exploring the data \n",
    "Investigating the **data provided by our teacher** - looking for missing values in .csv files as well as getting familiar with the data using the `df.describe()` function."
   ]
  },
  {
   "cell_type": "code",
   "execution_count": 4,
   "metadata": {
    "cell_id": "d1038bfd4c4149789e0ad934bb86b54d",
    "deepnote_cell_height": 316,
    "deepnote_cell_type": "code",
    "deepnote_to_be_reexecuted": false,
    "execution_millis": 3,
    "execution_start": 1649413254154,
    "source_hash": "7ce3d8d9",
    "tags": []
   },
   "outputs": [
    {
     "name": "stdout",
     "output_type": "stream",
     "text": [
      "shape of the df with 150 images: (150, 4)\n",
      "Are there any missing values in the dataset? False\n",
      "\n",
      "The diagnosis types: Index(['melanoma', 'seborrheic_keratosis'], dtype='object')\n"
     ]
    }
   ],
   "source": [
    "#getting the shape of df\n",
    "print(f'shape of the df with 150 images: {df.shape}')\n",
    "\n",
    "#looking for missing data\n",
    "print(f'Are there any missing values in the dataset? {df.isna().any().any()}')\n",
    "\n",
    "#getting the diagnosis types\n",
    "print('')\n",
    "print(f'The diagnosis types: {mel_df.columns[1:]}')"
   ]
  },
  {
   "cell_type": "code",
   "execution_count": 5,
   "metadata": {
    "cell_id": "b697052685434cf5acdf0f15cfc84baa",
    "deepnote_cell_height": 518,
    "deepnote_cell_type": "code",
    "deepnote_to_be_reexecuted": false,
    "execution_millis": 45,
    "execution_start": 1649413254154,
    "source_hash": "f88152d9",
    "tags": []
   },
   "outputs": [
    {
     "data": {
      "text/html": [
       "<div>\n",
       "<style scoped>\n",
       "    .dataframe tbody tr th:only-of-type {\n",
       "        vertical-align: middle;\n",
       "    }\n",
       "\n",
       "    .dataframe tbody tr th {\n",
       "        vertical-align: top;\n",
       "    }\n",
       "\n",
       "    .dataframe thead th {\n",
       "        text-align: right;\n",
       "    }\n",
       "</style>\n",
       "<table border=\"1\" class=\"dataframe\">\n",
       "  <thead>\n",
       "    <tr style=\"text-align: right;\">\n",
       "      <th></th>\n",
       "      <th>area</th>\n",
       "      <th>perimeter</th>\n",
       "      <th>melanoma</th>\n",
       "    </tr>\n",
       "  </thead>\n",
       "  <tbody>\n",
       "    <tr>\n",
       "      <th>count</th>\n",
       "      <td>1.500000e+02</td>\n",
       "      <td>150.00000</td>\n",
       "      <td>150.00000</td>\n",
       "    </tr>\n",
       "    <tr>\n",
       "      <th>mean</th>\n",
       "      <td>3.114134e+06</td>\n",
       "      <td>5570.36000</td>\n",
       "      <td>0.20000</td>\n",
       "    </tr>\n",
       "    <tr>\n",
       "      <th>std</th>\n",
       "      <td>5.897570e+06</td>\n",
       "      <td>5294.59662</td>\n",
       "      <td>0.40134</td>\n",
       "    </tr>\n",
       "    <tr>\n",
       "      <th>min</th>\n",
       "      <td>3.294400e+04</td>\n",
       "      <td>642.00000</td>\n",
       "      <td>0.00000</td>\n",
       "    </tr>\n",
       "    <tr>\n",
       "      <th>25%</th>\n",
       "      <td>2.329922e+05</td>\n",
       "      <td>2014.50000</td>\n",
       "      <td>0.00000</td>\n",
       "    </tr>\n",
       "    <tr>\n",
       "      <th>50%</th>\n",
       "      <td>6.223165e+05</td>\n",
       "      <td>3324.50000</td>\n",
       "      <td>0.00000</td>\n",
       "    </tr>\n",
       "    <tr>\n",
       "      <th>75%</th>\n",
       "      <td>2.054852e+06</td>\n",
       "      <td>7137.50000</td>\n",
       "      <td>0.00000</td>\n",
       "    </tr>\n",
       "    <tr>\n",
       "      <th>max</th>\n",
       "      <td>2.770686e+07</td>\n",
       "      <td>25900.00000</td>\n",
       "      <td>1.00000</td>\n",
       "    </tr>\n",
       "  </tbody>\n",
       "</table>\n",
       "</div>"
      ],
      "text/plain": [
       "               area    perimeter   melanoma\n",
       "count  1.500000e+02    150.00000  150.00000\n",
       "mean   3.114134e+06   5570.36000    0.20000\n",
       "std    5.897570e+06   5294.59662    0.40134\n",
       "min    3.294400e+04    642.00000    0.00000\n",
       "25%    2.329922e+05   2014.50000    0.00000\n",
       "50%    6.223165e+05   3324.50000    0.00000\n",
       "75%    2.054852e+06   7137.50000    0.00000\n",
       "max    2.770686e+07  25900.00000    1.00000"
      ]
     },
     "execution_count": 5,
     "metadata": {},
     "output_type": "execute_result"
    }
   ],
   "source": [
    "df.describe()"
   ]
  },
  {
   "cell_type": "markdown",
   "metadata": {
    "cell_id": "0d99a5fbd9f34bc8808db6bf5bbe91d0",
    "deepnote_cell_height": 70,
    "deepnote_cell_type": "markdown",
    "tags": []
   },
   "source": [
    "## Task 1 - measuring the features ourselves"
   ]
  },
  {
   "cell_type": "markdown",
   "metadata": {
    "cell_id": "851ba827eb524302bee2dc831a5f0179",
    "deepnote_cell_height": 74.796875,
    "deepnote_cell_type": "markdown",
    "tags": []
   },
   "source": [
    "We manually classified 50 pictures of skin lesions by using the ABC features (Asymmetry, Border, Color). Our final rankings are in one csv file called ID_rating.csv. There are also separate csv files for the individual ABC rankings."
   ]
  },
  {
   "cell_type": "code",
   "execution_count": 6,
   "metadata": {
    "cell_id": "da386f9e7b6e4534a88d09ca2314ce9a",
    "deepnote_cell_height": 99,
    "deepnote_cell_type": "code",
    "deepnote_output_heights": [
     606.1875
    ],
    "deepnote_to_be_reexecuted": false,
    "execution_millis": 43,
    "execution_start": 1649413254198,
    "source_hash": "d13bafc9",
    "tags": []
   },
   "outputs": [],
   "source": [
    "#load in our guesses from the csv file\n",
    "guesses = pd.read_csv(Config.id_rating_path)"
   ]
  },
  {
   "cell_type": "code",
   "execution_count": 7,
   "metadata": {
    "cell_id": "1a9ca11c0c9342d0b5ca0fececd83a1e",
    "deepnote_cell_height": 117,
    "deepnote_cell_type": "code",
    "deepnote_to_be_reexecuted": false,
    "execution_millis": 0,
    "execution_start": 1649413254242,
    "source_hash": "1e82fb66",
    "tags": []
   },
   "outputs": [],
   "source": [
    "#dropping columns that are not relevant or contain NaN values  \n",
    "todrop = [\"image_id\", \"Chris\", \"Germán\", \"Hubert\", \"Laurids\", \"Pau\", \"All Agree\", \"Guessed the same\"]\n",
    "guesses = guesses.drop(columns=todrop)"
   ]
  },
  {
   "cell_type": "code",
   "execution_count": 8,
   "metadata": {
    "cell_id": "1db2e43bb9424384970b8318fde065ab",
    "deepnote_cell_height": 117,
    "deepnote_cell_type": "code",
    "deepnote_to_be_reexecuted": false,
    "execution_millis": 1,
    "execution_start": 1649413254242,
    "source_hash": "f3fdf8c2",
    "tags": []
   },
   "outputs": [],
   "source": [
    "#convert all values to integers, drop row 50 because it was a summary and not part of the data\n",
    "guesses = guesses.astype(dtype=\"int\")\n",
    "guesses = guesses.drop(50, axis=0)"
   ]
  },
  {
   "cell_type": "code",
   "execution_count": 9,
   "metadata": {
    "cell_id": "d6cb9e9299544c9382493d743f475604",
    "deepnote_cell_height": 829,
    "deepnote_cell_type": "code",
    "deepnote_output_heights": [
     498
    ],
    "deepnote_to_be_reexecuted": false,
    "execution_millis": 756,
    "execution_start": 1649413254243,
    "source_hash": "85d181dc",
    "tags": []
   },
   "outputs": [
    {
     "data": {
      "image/png": "[encoded data removed]",
      "text/plain": [
       "<Figure size 720x504 with 1 Axes>"
      ]
     },
     "metadata": {
      "needs_background": "light"
     },
     "output_type": "display_data"
    }
   ],
   "source": [
    "#plot our agreement on whether it is cancer in form of a barplot\n",
    "dx = [\"All say cancer\", \"4 say cancer\", \"3 say cancer\"]\n",
    "dy = [sum(guesses[\"All say cancer\"]),sum(guesses[\"4 say cancer\"]) , sum(guesses[\"3 say cancer\"])]\n",
    "\n",
    "f, ax = plt.subplots(figsize=(10,7))\n",
    "ax1 = plt.bar(x=dx,data=guesses, height=dy, color=\"#b8a6cb\")\n",
    "\n",
    "ax.set_ylabel(\"Frequency\", fontsize=14)\n",
    "plt.title(\"Agreement on whether it is cancer\", fontsize=18)\n",
    "plt.tight_layout()\n",
    "\n",
    "if savefigs:\n",
    "    plt.savefig('../figs/figure0101.png', bbox_inches='tight')\n"
   ]
  },
  {
   "cell_type": "code",
   "execution_count": 10,
   "metadata": {
    "cell_id": "e6bff0a445564f58a03faa0b8781a512",
    "deepnote_cell_height": 903,
    "deepnote_cell_type": "code",
    "deepnote_output_heights": [
     464,
     464,
     413
    ],
    "deepnote_to_be_reexecuted": false,
    "execution_millis": 987,
    "execution_start": 1649413255007,
    "source_hash": "eda7f4eb",
    "tags": []
   },
   "outputs": [
    {
     "data": {
      "image/png": "[encoded data removed]",
      "text/plain": [
       "<Figure size 720x504 with 2 Axes>"
      ]
     },
     "metadata": {
      "needs_background": "light"
     },
     "output_type": "display_data"
    }
   ],
   "source": [
    "#creating a confusion matrix from our guesses\n",
    "cf = confusion_matrix(guesses[\"Melanoma\"], guesses[\"3 say cancer\"])\n",
    "\n",
    "#creating labels to add to the heatmap\n",
    "group_names = [\"True Neg\",\"False Pos\",\"False Neg\",\"True Pos\"]\n",
    "group_counts = [\"{0:0.0f}\".format(value) for value in cf.flatten()]\n",
    "group_percentages = [\"{0:.2%}\".format(value) for value in cf.flatten()/np.sum(cf)]\n",
    "labels = [f\"{v1}\\n{v2}\\n{v3}\" for v1, v2, v3 in\n",
    "          zip(group_names,group_counts,group_percentages)]\n",
    "labels = np.asarray(labels).reshape(2,2)\n",
    "\n",
    "#creating the heatmap and adding titels\n",
    "f, ax = plt.subplots(figsize=(10,7))\n",
    "sns.heatmap(cf, annot=labels, fmt=\"\", cmap='Blues')\n",
    "\n",
    "plt.suptitle(\"Heatmap of the confusion matrix\", fontsize=18, x=0.45)\n",
    "plt.title(\"Based on the majority guess\", fontsize=12)\n",
    "\n",
    "if savefigs:\n",
    "    plt.savefig(\"../figs/figure0102.png\", bbox_inches=\"tight\")"
   ]
  },
  {
   "cell_type": "markdown",
   "metadata": {
    "cell_id": "ecfe3be7863c4e0394c6abbf4e48dfac",
    "deepnote_cell_height": 70,
    "deepnote_cell_type": "markdown",
    "tags": []
   },
   "source": [
    "## Task 2 - Creating our feature measurements"
   ]
  },
  {
   "cell_type": "markdown",
   "metadata": {
    "cell_id": "5e1e7ef8047741a5863c18dab72c197f",
    "deepnote_cell_height": 122.796875,
    "deepnote_cell_type": "markdown",
    "tags": []
   },
   "source": [
    "### Picture Class\n",
    "This class contains all the feature functions that we apply for each image as well as a function that measures the area and perimeter of an image."
   ]
  },
  {
   "cell_type": "markdown",
   "metadata": {
    "cell_id": "3b79ba4fb00f4549a44fcb6d0eb4f75c",
    "deepnote_cell_height": 291.734375,
    "deepnote_cell_type": "markdown",
    "tags": []
   },
   "source": [
    "#### Asymmetry:\n",
    "The asymmetry is given as a value between 0 and 1. We get this value by folding the segmentation mask multiple times and rotating in between, calculating the ratio of pixels that are equal after folding, and taking the mean out of all the different rotations. \n",
    "\n",
    "#### Compactness:\n",
    "The compactness is calculated using the area and perimeter of the skin lesion. The formula for the compactness is $\\frac{4 \\cdot \\pi \\cdot A}{p^2}$ where A is the area and p is the perimeter. The optimal compactness is 1 and the closer to 1 the values are, the more circular the lesion is.\n",
    "\n",
    "#### Color variability:\n",
    "The color variability is calculated using the variance of the rgb values in the lesion and then taking the average. "
   ]
  },
  {
   "cell_type": "code",
   "execution_count": 11,
   "metadata": {
    "cell_id": "97b77359735d4556bcba3c483e82ee91",
    "deepnote_cell_height": 1557,
    "deepnote_cell_type": "code",
    "deepnote_to_be_reexecuted": false,
    "execution_millis": 1,
    "execution_start": 1649413255757,
    "source_hash": "cb44a1cb",
    "tags": []
   },
   "outputs": [],
   "source": [
    "class Picture:\n",
    "    def __init__(self, img, img_bw):\n",
    "        self.img = img #main image\n",
    "        self.img_bw = self._cut_image(img_bw) #the image in black & white version\n",
    "\n",
    "    #ASYMMETRY\n",
    "    def _cut_image(self, picture):\n",
    "        ''' Makes the number of pixels in width and height an even number  '''\n",
    "        picture = picture.crop(picture.getbbox())\n",
    "        width, height = picture.size\n",
    "        image = np.array(picture)\n",
    "        \n",
    "        if width %2 != 0:\n",
    "            image = np.delete(image, -1, 1)\n",
    "\n",
    "        if height %2 != 0:\n",
    "            image = np.delete(image, -1, 0)\n",
    "\n",
    "        image = Image.fromarray(image)\n",
    "\n",
    "        return image\n",
    "\n",
    "    def _asymmetry(self, rot_img):\n",
    "        '''Gets the asymmetry between the left and right part of a given binary mask '''\n",
    "        width, height = rot_img.size #mask should be quadratic and therefore have equal dimension\n",
    "        size = width * height\n",
    "\n",
    "        #check for uneven number of pixels (should not happen but just as a precaution)\n",
    "        if width %2 != 0:\n",
    "            raise TypeError('Uneven number of pixel and cannot be symmetric')\n",
    "        \n",
    "        #cut in half and fold\n",
    "        left = rot_img.crop((0, 0, (width/2), height)) #left part of picture (left, top, right, bottom)\n",
    "        right = rot_img.crop(((width/2), 0, width, height)) #right part of picture\n",
    "        right = right.transpose(Image.FLIP_LEFT_RIGHT) #flip right part to compare\n",
    "\n",
    "        #get the binary difference between left an right\n",
    "        symmetry = np.where(np.array(left) != np.array(right), 1, 0)\n",
    "\n",
    "        return np.sum(symmetry) / (size/2) #the percentage of asymmetry \n",
    "    \n",
    "    def get_asymmetry(self):\n",
    "        '''Returns the asymmetry for a given mask by folding it in half from multiple angles'''\n",
    "        return round(np.mean([self._asymmetry(self.img_bw), self._asymmetry(self.img_bw.rotate(30, expand= True)),self._asymmetry(self.img_bw.rotate(60, expand= True)),self._asymmetry(self.img_bw.rotate(90, expand= True))]),2)\n",
    "\n",
    "    #BORDER\n",
    "    def measure_area_perimeter(self): \n",
    "        '''Measures the area and perimeter of a mask image'''\n",
    "        #area: the sum of all white pixels in the mask image\n",
    "        mask = np.where(np.array(self.img_bw)==255, 1, 0)\n",
    "        area = np.sum(mask)\n",
    "\n",
    "        #perimeter: first find which pixels belong to the perimeter.\n",
    "        struct_el = morphology.disk(1)\n",
    "        mask_eroded = morphology.binary_erosion(mask, struct_el)\n",
    "        image_perimeter = mask - mask_eroded\n",
    "\n",
    "        #now we have the perimeter image, the sum of all white pixels in it\n",
    "        perimeter = np.sum(image_perimeter)\n",
    "\n",
    "        return area, perimeter\n",
    "\n",
    "    def get_compactness(self):\n",
    "        '''Computes and returns the compactness of a figure'''\n",
    "        area, perimeter = self.measure_area_perimeter()\n",
    "        return round(4*np.pi*area / perimeter ** 2, 4)\n",
    "\n",
    "\n",
    "    #COLOR\n",
    "    def get_color_variability(self):\n",
    "        '''Checks the variability of a color - returns the mean of the variance of each color dimension (rgb)'''\n",
    "        self.img[self.img_bw==0] = 0\n",
    "        \n",
    "        #we then calculate the variance of each dimension \n",
    "        r, g, b = self.img[:,:,0], self.img[:,:,1], self.img[:,:,2]\n",
    "        var_r= np.var(r[np.where(r != 0)])\n",
    "        var_g= np.var(g[np.where(g != 0)])\n",
    "        var_b= np.var(b[np.where(b != 0)])\n",
    "        var_result= [var_r,var_g,var_b]\n",
    "\n",
    "        #calculating the mean\n",
    "        return np.mean(var_result)\n",
    "    "
   ]
  },
  {
   "cell_type": "markdown",
   "metadata": {
    "cell_id": "f1be039798f840ca8c99b78e57046f57",
    "deepnote_cell_height": 100.390625,
    "deepnote_cell_type": "markdown",
    "tags": []
   },
   "source": [
    "### Visualizing the feature functions\n",
    "Creating plots of each feature function in order to explore our measurements."
   ]
  },
  {
   "cell_type": "markdown",
   "metadata": {
    "cell_id": "3daca9280c1c4e49bba89d9ecccd92b8",
    "deepnote_cell_height": 54,
    "deepnote_cell_type": "markdown",
    "tags": []
   },
   "source": [
    "#### Asymmetry plots"
   ]
  },
  {
   "cell_type": "code",
   "execution_count": 12,
   "metadata": {
    "cell_id": "43d3085a5d02494ebca26d5fdbc58506",
    "deepnote_cell_height": 207,
    "deepnote_cell_type": "code",
    "deepnote_to_be_reexecuted": false,
    "execution_millis": 10,
    "execution_start": 1649414495283,
    "source_hash": "e8ca918f",
    "tags": []
   },
   "outputs": [
    {
     "ename": "FileNotFoundError",
     "evalue": "[Errno 2] No such file or directory: 'sex_features.csv'",
     "output_type": "error",
     "traceback": [
      "\u001b[1;31m---------------------------------------------------------------------------\u001b[0m",
      "\u001b[1;31mFileNotFoundError\u001b[0m                         Traceback (most recent call last)",
      "\u001b[1;32mc:\\Users\\germa\\OneDrive\\Escritorio\\ITU\\second\\project\\project 2\\project2_groupG_handin\\groupG_code\\final.ipynb Cell 25'\u001b[0m in \u001b[0;36m<module>\u001b[1;34m\u001b[0m\n\u001b[0;32m      <a href='vscode-notebook-cell:/c%3A/Users/germa/OneDrive/Escritorio/ITU/second/project/project%202/project2_groupG_handin/groupG_code/final.ipynb#ch0000024?line=0'>1</a>\u001b[0m \u001b[39m#general code needed for all the plots\u001b[39;00m\n\u001b[1;32m----> <a href='vscode-notebook-cell:/c%3A/Users/germa/OneDrive/Escritorio/ITU/second/project/project%202/project2_groupG_handin/groupG_code/final.ipynb#ch0000024?line=1'>2</a>\u001b[0m plot_data \u001b[39m=\u001b[39m pd\u001b[39m.\u001b[39;49mread_csv(Config\u001b[39m.\u001b[39;49msex_features_path)\n\u001b[0;32m      <a href='vscode-notebook-cell:/c%3A/Users/germa/OneDrive/Escritorio/ITU/second/project/project%202/project2_groupG_handin/groupG_code/final.ipynb#ch0000024?line=2'>3</a>\u001b[0m colors \u001b[39m=\u001b[39m [\u001b[39m\"\u001b[39m\u001b[39m#8ba888\u001b[39m\u001b[39m\"\u001b[39m,\u001b[39m\"\u001b[39m\u001b[39m#d0312d\u001b[39m\u001b[39m\"\u001b[39m ]\n\u001b[0;32m      <a href='vscode-notebook-cell:/c%3A/Users/germa/OneDrive/Escritorio/ITU/second/project/project%202/project2_groupG_handin/groupG_code/final.ipynb#ch0000024?line=3'>4</a>\u001b[0m dx \u001b[39m=\u001b[39m \u001b[39m\"\u001b[39m\u001b[39mMelanoma\u001b[39m\u001b[39m\"\u001b[39m; sigma \u001b[39m=\u001b[39m \u001b[39m.2\u001b[39m; ort\u001b[39m=\u001b[39m\u001b[39m\"\u001b[39m\u001b[39mh\u001b[39m\u001b[39m\"\u001b[39m\n",
      "File \u001b[1;32m~\\AppData\\Local\\Packages\\PythonSoftwareFoundation.Python.3.9_qbz5n2kfra8p0\\LocalCache\\local-packages\\Python39\\site-packages\\pandas\\util\\_decorators.py:311\u001b[0m, in \u001b[0;36mdeprecate_nonkeyword_arguments.<locals>.decorate.<locals>.wrapper\u001b[1;34m(*args, **kwargs)\u001b[0m\n\u001b[0;32m    305\u001b[0m \u001b[39mif\u001b[39;00m \u001b[39mlen\u001b[39m(args) \u001b[39m>\u001b[39m num_allow_args:\n\u001b[0;32m    306\u001b[0m     warnings\u001b[39m.\u001b[39mwarn(\n\u001b[0;32m    307\u001b[0m         msg\u001b[39m.\u001b[39mformat(arguments\u001b[39m=\u001b[39marguments),\n\u001b[0;32m    308\u001b[0m         \u001b[39mFutureWarning\u001b[39;00m,\n\u001b[0;32m    309\u001b[0m         stacklevel\u001b[39m=\u001b[39mstacklevel,\n\u001b[0;32m    310\u001b[0m     )\n\u001b[1;32m--> 311\u001b[0m \u001b[39mreturn\u001b[39;00m func(\u001b[39m*\u001b[39margs, \u001b[39m*\u001b[39m\u001b[39m*\u001b[39mkwargs)\n",
      "File \u001b[1;32m~\\AppData\\Local\\Packages\\PythonSoftwareFoundation.Python.3.9_qbz5n2kfra8p0\\LocalCache\\local-packages\\Python39\\site-packages\\pandas\\io\\parsers\\readers.py:680\u001b[0m, in \u001b[0;36mread_csv\u001b[1;34m(filepath_or_buffer, sep, delimiter, header, names, index_col, usecols, squeeze, prefix, mangle_dupe_cols, dtype, engine, converters, true_values, false_values, skipinitialspace, skiprows, skipfooter, nrows, na_values, keep_default_na, na_filter, verbose, skip_blank_lines, parse_dates, infer_datetime_format, keep_date_col, date_parser, dayfirst, cache_dates, iterator, chunksize, compression, thousands, decimal, lineterminator, quotechar, quoting, doublequote, escapechar, comment, encoding, encoding_errors, dialect, error_bad_lines, warn_bad_lines, on_bad_lines, delim_whitespace, low_memory, memory_map, float_precision, storage_options)\u001b[0m\n\u001b[0;32m    665\u001b[0m kwds_defaults \u001b[39m=\u001b[39m _refine_defaults_read(\n\u001b[0;32m    666\u001b[0m     dialect,\n\u001b[0;32m    667\u001b[0m     delimiter,\n\u001b[1;32m   (...)\u001b[0m\n\u001b[0;32m    676\u001b[0m     defaults\u001b[39m=\u001b[39m{\u001b[39m\"\u001b[39m\u001b[39mdelimiter\u001b[39m\u001b[39m\"\u001b[39m: \u001b[39m\"\u001b[39m\u001b[39m,\u001b[39m\u001b[39m\"\u001b[39m},\n\u001b[0;32m    677\u001b[0m )\n\u001b[0;32m    678\u001b[0m kwds\u001b[39m.\u001b[39mupdate(kwds_defaults)\n\u001b[1;32m--> 680\u001b[0m \u001b[39mreturn\u001b[39;00m _read(filepath_or_buffer, kwds)\n",
      "File \u001b[1;32m~\\AppData\\Local\\Packages\\PythonSoftwareFoundation.Python.3.9_qbz5n2kfra8p0\\LocalCache\\local-packages\\Python39\\site-packages\\pandas\\io\\parsers\\readers.py:575\u001b[0m, in \u001b[0;36m_read\u001b[1;34m(filepath_or_buffer, kwds)\u001b[0m\n\u001b[0;32m    572\u001b[0m _validate_names(kwds\u001b[39m.\u001b[39mget(\u001b[39m\"\u001b[39m\u001b[39mnames\u001b[39m\u001b[39m\"\u001b[39m, \u001b[39mNone\u001b[39;00m))\n\u001b[0;32m    574\u001b[0m \u001b[39m# Create the parser.\u001b[39;00m\n\u001b[1;32m--> 575\u001b[0m parser \u001b[39m=\u001b[39m TextFileReader(filepath_or_buffer, \u001b[39m*\u001b[39m\u001b[39m*\u001b[39mkwds)\n\u001b[0;32m    577\u001b[0m \u001b[39mif\u001b[39;00m chunksize \u001b[39mor\u001b[39;00m iterator:\n\u001b[0;32m    578\u001b[0m     \u001b[39mreturn\u001b[39;00m parser\n",
      "File \u001b[1;32m~\\AppData\\Local\\Packages\\PythonSoftwareFoundation.Python.3.9_qbz5n2kfra8p0\\LocalCache\\local-packages\\Python39\\site-packages\\pandas\\io\\parsers\\readers.py:933\u001b[0m, in \u001b[0;36mTextFileReader.__init__\u001b[1;34m(self, f, engine, **kwds)\u001b[0m\n\u001b[0;32m    930\u001b[0m     \u001b[39mself\u001b[39m\u001b[39m.\u001b[39moptions[\u001b[39m\"\u001b[39m\u001b[39mhas_index_names\u001b[39m\u001b[39m\"\u001b[39m] \u001b[39m=\u001b[39m kwds[\u001b[39m\"\u001b[39m\u001b[39mhas_index_names\u001b[39m\u001b[39m\"\u001b[39m]\n\u001b[0;32m    932\u001b[0m \u001b[39mself\u001b[39m\u001b[39m.\u001b[39mhandles: IOHandles \u001b[39m|\u001b[39m \u001b[39mNone\u001b[39;00m \u001b[39m=\u001b[39m \u001b[39mNone\u001b[39;00m\n\u001b[1;32m--> 933\u001b[0m \u001b[39mself\u001b[39m\u001b[39m.\u001b[39m_engine \u001b[39m=\u001b[39m \u001b[39mself\u001b[39;49m\u001b[39m.\u001b[39;49m_make_engine(f, \u001b[39mself\u001b[39;49m\u001b[39m.\u001b[39;49mengine)\n",
      "File \u001b[1;32m~\\AppData\\Local\\Packages\\PythonSoftwareFoundation.Python.3.9_qbz5n2kfra8p0\\LocalCache\\local-packages\\Python39\\site-packages\\pandas\\io\\parsers\\readers.py:1217\u001b[0m, in \u001b[0;36mTextFileReader._make_engine\u001b[1;34m(self, f, engine)\u001b[0m\n\u001b[0;32m   1213\u001b[0m     mode \u001b[39m=\u001b[39m \u001b[39m\"\u001b[39m\u001b[39mrb\u001b[39m\u001b[39m\"\u001b[39m\n\u001b[0;32m   1214\u001b[0m \u001b[39m# error: No overload variant of \"get_handle\" matches argument types\u001b[39;00m\n\u001b[0;32m   1215\u001b[0m \u001b[39m# \"Union[str, PathLike[str], ReadCsvBuffer[bytes], ReadCsvBuffer[str]]\"\u001b[39;00m\n\u001b[0;32m   1216\u001b[0m \u001b[39m# , \"str\", \"bool\", \"Any\", \"Any\", \"Any\", \"Any\", \"Any\"\u001b[39;00m\n\u001b[1;32m-> 1217\u001b[0m \u001b[39mself\u001b[39m\u001b[39m.\u001b[39mhandles \u001b[39m=\u001b[39m get_handle(  \u001b[39m# type: ignore[call-overload]\u001b[39;49;00m\n\u001b[0;32m   1218\u001b[0m     f,\n\u001b[0;32m   1219\u001b[0m     mode,\n\u001b[0;32m   1220\u001b[0m     encoding\u001b[39m=\u001b[39;49m\u001b[39mself\u001b[39;49m\u001b[39m.\u001b[39;49moptions\u001b[39m.\u001b[39;49mget(\u001b[39m\"\u001b[39;49m\u001b[39mencoding\u001b[39;49m\u001b[39m\"\u001b[39;49m, \u001b[39mNone\u001b[39;49;00m),\n\u001b[0;32m   1221\u001b[0m     compression\u001b[39m=\u001b[39;49m\u001b[39mself\u001b[39;49m\u001b[39m.\u001b[39;49moptions\u001b[39m.\u001b[39;49mget(\u001b[39m\"\u001b[39;49m\u001b[39mcompression\u001b[39;49m\u001b[39m\"\u001b[39;49m, \u001b[39mNone\u001b[39;49;00m),\n\u001b[0;32m   1222\u001b[0m     memory_map\u001b[39m=\u001b[39;49m\u001b[39mself\u001b[39;49m\u001b[39m.\u001b[39;49moptions\u001b[39m.\u001b[39;49mget(\u001b[39m\"\u001b[39;49m\u001b[39mmemory_map\u001b[39;49m\u001b[39m\"\u001b[39;49m, \u001b[39mFalse\u001b[39;49;00m),\n\u001b[0;32m   1223\u001b[0m     is_text\u001b[39m=\u001b[39;49mis_text,\n\u001b[0;32m   1224\u001b[0m     errors\u001b[39m=\u001b[39;49m\u001b[39mself\u001b[39;49m\u001b[39m.\u001b[39;49moptions\u001b[39m.\u001b[39;49mget(\u001b[39m\"\u001b[39;49m\u001b[39mencoding_errors\u001b[39;49m\u001b[39m\"\u001b[39;49m, \u001b[39m\"\u001b[39;49m\u001b[39mstrict\u001b[39;49m\u001b[39m\"\u001b[39;49m),\n\u001b[0;32m   1225\u001b[0m     storage_options\u001b[39m=\u001b[39;49m\u001b[39mself\u001b[39;49m\u001b[39m.\u001b[39;49moptions\u001b[39m.\u001b[39;49mget(\u001b[39m\"\u001b[39;49m\u001b[39mstorage_options\u001b[39;49m\u001b[39m\"\u001b[39;49m, \u001b[39mNone\u001b[39;49;00m),\n\u001b[0;32m   1226\u001b[0m )\n\u001b[0;32m   1227\u001b[0m \u001b[39massert\u001b[39;00m \u001b[39mself\u001b[39m\u001b[39m.\u001b[39mhandles \u001b[39mis\u001b[39;00m \u001b[39mnot\u001b[39;00m \u001b[39mNone\u001b[39;00m\n\u001b[0;32m   1228\u001b[0m f \u001b[39m=\u001b[39m \u001b[39mself\u001b[39m\u001b[39m.\u001b[39mhandles\u001b[39m.\u001b[39mhandle\n",
      "File \u001b[1;32m~\\AppData\\Local\\Packages\\PythonSoftwareFoundation.Python.3.9_qbz5n2kfra8p0\\LocalCache\\local-packages\\Python39\\site-packages\\pandas\\io\\common.py:789\u001b[0m, in \u001b[0;36mget_handle\u001b[1;34m(path_or_buf, mode, encoding, compression, memory_map, is_text, errors, storage_options)\u001b[0m\n\u001b[0;32m    784\u001b[0m \u001b[39melif\u001b[39;00m \u001b[39misinstance\u001b[39m(handle, \u001b[39mstr\u001b[39m):\n\u001b[0;32m    785\u001b[0m     \u001b[39m# Check whether the filename is to be opened in binary mode.\u001b[39;00m\n\u001b[0;32m    786\u001b[0m     \u001b[39m# Binary mode does not support 'encoding' and 'newline'.\u001b[39;00m\n\u001b[0;32m    787\u001b[0m     \u001b[39mif\u001b[39;00m ioargs\u001b[39m.\u001b[39mencoding \u001b[39mand\u001b[39;00m \u001b[39m\"\u001b[39m\u001b[39mb\u001b[39m\u001b[39m\"\u001b[39m \u001b[39mnot\u001b[39;00m \u001b[39min\u001b[39;00m ioargs\u001b[39m.\u001b[39mmode:\n\u001b[0;32m    788\u001b[0m         \u001b[39m# Encoding\u001b[39;00m\n\u001b[1;32m--> 789\u001b[0m         handle \u001b[39m=\u001b[39m \u001b[39mopen\u001b[39;49m(\n\u001b[0;32m    790\u001b[0m             handle,\n\u001b[0;32m    791\u001b[0m             ioargs\u001b[39m.\u001b[39;49mmode,\n\u001b[0;32m    792\u001b[0m             encoding\u001b[39m=\u001b[39;49mioargs\u001b[39m.\u001b[39;49mencoding,\n\u001b[0;32m    793\u001b[0m             errors\u001b[39m=\u001b[39;49merrors,\n\u001b[0;32m    794\u001b[0m             newline\u001b[39m=\u001b[39;49m\u001b[39m\"\u001b[39;49m\u001b[39m\"\u001b[39;49m,\n\u001b[0;32m    795\u001b[0m         )\n\u001b[0;32m    796\u001b[0m     \u001b[39melse\u001b[39;00m:\n\u001b[0;32m    797\u001b[0m         \u001b[39m# Binary mode\u001b[39;00m\n\u001b[0;32m    798\u001b[0m         handle \u001b[39m=\u001b[39m \u001b[39mopen\u001b[39m(handle, ioargs\u001b[39m.\u001b[39mmode)\n",
      "\u001b[1;31mFileNotFoundError\u001b[0m: [Errno 2] No such file or directory: 'sex_features.csv'"
     ]
    }
   ],
   "source": [
    "#general code needed for all the plots\n",
    "plot_data = pd.read_csv(Config.sex_features_path)\n",
    "colors = [\"#8ba888\",\"#d0312d\" ]\n",
    "dx = \"Melanoma\"; sigma = .2; ort=\"h\"\n",
    "\n",
    "font = {'size'   : 13}\n",
    "\n",
    "plt.rc('font', **font)"
   ]
  },
  {
   "cell_type": "code",
   "execution_count": null,
   "metadata": {
    "cell_id": "eab71dd05ecd4302bbda620ebca6cdc2",
    "deepnote_cell_height": 656,
    "deepnote_cell_type": "code",
    "deepnote_output_heights": [
     361
    ],
    "deepnote_to_be_reexecuted": false,
    "execution_millis": 738,
    "execution_start": 1649414506443,
    "source_hash": "bd7a954f",
    "tags": []
   },
   "outputs": [
    {
     "ename": "NameError",
     "evalue": "name 'plot_data' is not defined",
     "output_type": "error",
     "traceback": [
      "\u001b[1;31m---------------------------------------------------------------------------\u001b[0m",
      "\u001b[1;31mNameError\u001b[0m                                 Traceback (most recent call last)",
      "\u001b[1;32mc:\\Users\\germa\\OneDrive\\Escritorio\\ITU\\second\\project\\project 2\\project2_groupG_handin\\groupG_code\\final.ipynb Cell 26'\u001b[0m in \u001b[0;36m<module>\u001b[1;34m\u001b[0m\n\u001b[0;32m      <a href='vscode-notebook-cell:/c%3A/Users/germa/OneDrive/Escritorio/ITU/second/project/project%202/project2_groupG_handin/groupG_code/final.ipynb#ch0000026?line=1'>2</a>\u001b[0m dy\u001b[39m=\u001b[39m \u001b[39m\"\u001b[39m\u001b[39mAsymmetry\u001b[39m\u001b[39m\"\u001b[39m\n\u001b[0;32m      <a href='vscode-notebook-cell:/c%3A/Users/germa/OneDrive/Escritorio/ITU/second/project/project%202/project2_groupG_handin/groupG_code/final.ipynb#ch0000026?line=2'>3</a>\u001b[0m f, ax \u001b[39m=\u001b[39m plt\u001b[39m.\u001b[39msubplots(figsize \u001b[39m=\u001b[39m (\u001b[39m7\u001b[39m,\u001b[39m5\u001b[39m))\n\u001b[1;32m----> <a href='vscode-notebook-cell:/c%3A/Users/germa/OneDrive/Escritorio/ITU/second/project/project%202/project2_groupG_handin/groupG_code/final.ipynb#ch0000026?line=4'>5</a>\u001b[0m ax \u001b[39m=\u001b[39m pt\u001b[39m.\u001b[39mRainCloud(data\u001b[39m=\u001b[39mplot_data, x\u001b[39m=\u001b[39mdx, y\u001b[39m=\u001b[39mdy, \n\u001b[0;32m      <a href='vscode-notebook-cell:/c%3A/Users/germa/OneDrive/Escritorio/ITU/second/project/project%202/project2_groupG_handin/groupG_code/final.ipynb#ch0000026?line=5'>6</a>\u001b[0m palette\u001b[39m=\u001b[39mcolors, bw\u001b[39m=\u001b[39msigma, width_viol\u001b[39m=\u001b[39m\u001b[39m.7\u001b[39m, ax\u001b[39m=\u001b[39max, orient\u001b[39m=\u001b[39mort)\n\u001b[0;32m      <a href='vscode-notebook-cell:/c%3A/Users/germa/OneDrive/Escritorio/ITU/second/project/project%202/project2_groupG_handin/groupG_code/final.ipynb#ch0000026?line=7'>8</a>\u001b[0m plt\u001b[39m.\u001b[39msuptitle(\u001b[39m\"\u001b[39m\u001b[39mRainCloud plot of the asymmetry values\u001b[39m\u001b[39m\"\u001b[39m, fontsize\u001b[39m=\u001b[39m\u001b[39m18\u001b[39m);\n\u001b[0;32m      <a href='vscode-notebook-cell:/c%3A/Users/germa/OneDrive/Escritorio/ITU/second/project/project%202/project2_groupG_handin/groupG_code/final.ipynb#ch0000026?line=8'>9</a>\u001b[0m plt\u001b[39m.\u001b[39mtitle(\u001b[39m\"\u001b[39m\u001b[39mseparated by melanoma(1)/non-melanoma(0)\u001b[39m\u001b[39m\"\u001b[39m, fontsize\u001b[39m=\u001b[39m\u001b[39m13\u001b[39m);\n",
      "\u001b[1;31mNameError\u001b[0m: name 'plot_data' is not defined"
     ]
    },
    {
     "data": {
      "image/png": "[encoded data removed]",
      "text/plain": [
       "<Figure size 504x360 with 1 Axes>"
      ]
     },
     "metadata": {
      "needs_background": "light"
     },
     "output_type": "display_data"
    }
   ],
   "source": [
    "#plotting the asymmetry values\n",
    "dy= \"Asymmetry\"\n",
    "f, ax = plt.subplots(figsize = (7,5))\n",
    "\n",
    "ax = pt.RainCloud(data=plot_data, x=dx, y=dy, \n",
    "palette=colors, bw=sigma, width_viol=.7, ax=ax, orient=ort)\n",
    "\n",
    "plt.suptitle(\"RainCloud plot of the asymmetry values\", fontsize=18);\n",
    "plt.title(\"separated by melanoma(1)/non-melanoma(0)\", fontsize=13);\n",
    "\n",
    "if savefigs:\n",
    "    plt.savefig('../figs/figure0201.png', bbox_inches='tight')"
   ]
  },
  {
   "cell_type": "markdown",
   "metadata": {
    "cell_id": "c31e680d191a4b6d9b62f0a9be364a1f",
    "deepnote_cell_height": 54,
    "deepnote_cell_type": "markdown",
    "tags": []
   },
   "source": [
    "#### Border (compactness) plots"
   ]
  },
  {
   "cell_type": "code",
   "execution_count": null,
   "metadata": {
    "cell_id": "49f83c2a80f54a2f837799e4450b3dd7",
    "deepnote_cell_height": 656,
    "deepnote_cell_type": "code",
    "deepnote_output_heights": [
     361
    ],
    "deepnote_to_be_reexecuted": false,
    "execution_millis": 1014,
    "execution_start": 1649414514638,
    "source_hash": "53c2dc19",
    "tags": []
   },
   "outputs": [
    {
     "data": {
      "image/png": "[encoded data removed]",
      "text/plain": [
       "<Figure size 504x360 with 1 Axes>"
      ]
     },
     "metadata": {
      "image/png": {
       "height": 359,
       "width": 449
      },
      "needs_background": "light"
     },
     "output_type": "display_data"
    }
   ],
   "source": [
    "#plotting the compactness values\n",
    "dy= \"Compactness\"\n",
    "f, ax = plt.subplots(figsize = (7,5))\n",
    "\n",
    "ax = pt.RainCloud(data=plot_data, x=dx, y=dy, \n",
    "palette=colors, bw=sigma, width_viol=.7, ax=ax, orient=ort)\n",
    "\n",
    "plt.suptitle(\"RainCloud plot of the compactness values\", fontsize=18);\n",
    "plt.title(\"separated by melanoma(1)/non-melanoma(0)\", fontsize=13);\n",
    "\n",
    "if savefigs:\n",
    "    plt.savefig('../figs/figure0202.png', bbox_inches='tight')"
   ]
  },
  {
   "cell_type": "markdown",
   "metadata": {
    "cell_id": "99a701a8573d46869e6eab2c484dbf77",
    "deepnote_cell_height": 54,
    "deepnote_cell_type": "markdown",
    "tags": []
   },
   "source": [
    "#### Color variability plots"
   ]
  },
  {
   "cell_type": "code",
   "execution_count": null,
   "metadata": {
    "cell_id": "939797feeecd4c2d9199209f8578771e",
    "deepnote_cell_height": 650,
    "deepnote_cell_type": "code",
    "deepnote_output_heights": [
     355
    ],
    "deepnote_to_be_reexecuted": false,
    "execution_millis": 669,
    "execution_start": 1649414546280,
    "owner_user_id": "8d619174-9f34-4eb3-9a85-c0d85b3afc28",
    "source_hash": "c8255048",
    "tags": []
   },
   "outputs": [
    {
     "ename": "NameError",
     "evalue": "name 'plot_data' is not defined",
     "output_type": "error",
     "traceback": [
      "\u001b[1;31m---------------------------------------------------------------------------\u001b[0m",
      "\u001b[1;31mNameError\u001b[0m                                 Traceback (most recent call last)",
      "\u001b[1;32mc:\\Users\\germa\\OneDrive\\Escritorio\\ITU\\second\\project\\project 2\\project2_groupG_handin\\groupG_code\\final.ipynb Cell 30'\u001b[0m in \u001b[0;36m<module>\u001b[1;34m\u001b[0m\n\u001b[0;32m      <a href='vscode-notebook-cell:/c%3A/Users/germa/OneDrive/Escritorio/ITU/second/project/project%202/project2_groupG_handin/groupG_code/final.ipynb#ch0000030?line=1'>2</a>\u001b[0m dy\u001b[39m=\u001b[39m \u001b[39m\"\u001b[39m\u001b[39mColor\u001b[39m\u001b[39m\"\u001b[39m\n\u001b[0;32m      <a href='vscode-notebook-cell:/c%3A/Users/germa/OneDrive/Escritorio/ITU/second/project/project%202/project2_groupG_handin/groupG_code/final.ipynb#ch0000030?line=2'>3</a>\u001b[0m f, ax \u001b[39m=\u001b[39m plt\u001b[39m.\u001b[39msubplots(figsize \u001b[39m=\u001b[39m (\u001b[39m7\u001b[39m,\u001b[39m5\u001b[39m))\n\u001b[1;32m----> <a href='vscode-notebook-cell:/c%3A/Users/germa/OneDrive/Escritorio/ITU/second/project/project%202/project2_groupG_handin/groupG_code/final.ipynb#ch0000030?line=4'>5</a>\u001b[0m ax \u001b[39m=\u001b[39m pt\u001b[39m.\u001b[39mRainCloud(data\u001b[39m=\u001b[39mplot_data, x\u001b[39m=\u001b[39mdx, y\u001b[39m=\u001b[39mdy, \n\u001b[0;32m      <a href='vscode-notebook-cell:/c%3A/Users/germa/OneDrive/Escritorio/ITU/second/project/project%202/project2_groupG_handin/groupG_code/final.ipynb#ch0000030?line=5'>6</a>\u001b[0m palette\u001b[39m=\u001b[39mcolors, bw\u001b[39m=\u001b[39msigma, width_viol\u001b[39m=\u001b[39m\u001b[39m.7\u001b[39m, ax\u001b[39m=\u001b[39max, orient\u001b[39m=\u001b[39mort)\n\u001b[0;32m      <a href='vscode-notebook-cell:/c%3A/Users/germa/OneDrive/Escritorio/ITU/second/project/project%202/project2_groupG_handin/groupG_code/final.ipynb#ch0000030?line=7'>8</a>\u001b[0m plt\u001b[39m.\u001b[39msuptitle(\u001b[39m\"\u001b[39m\u001b[39mRainCloud plot of the color values\u001b[39m\u001b[39m\"\u001b[39m, fontsize\u001b[39m=\u001b[39m\u001b[39m18\u001b[39m);\n\u001b[0;32m      <a href='vscode-notebook-cell:/c%3A/Users/germa/OneDrive/Escritorio/ITU/second/project/project%202/project2_groupG_handin/groupG_code/final.ipynb#ch0000030?line=8'>9</a>\u001b[0m plt\u001b[39m.\u001b[39mtitle(\u001b[39m\"\u001b[39m\u001b[39mseparated by melanoma(1)/non-melanoma(0)\u001b[39m\u001b[39m\"\u001b[39m, fontsize\u001b[39m=\u001b[39m\u001b[39m13\u001b[39m);\n",
      "\u001b[1;31mNameError\u001b[0m: name 'plot_data' is not defined"
     ]
    },
    {
     "data": {
      "image/png": "[encoded data removed]",
      "text/plain": [
       "<Figure size 504x360 with 1 Axes>"
      ]
     },
     "metadata": {
      "needs_background": "light"
     },
     "output_type": "display_data"
    }
   ],
   "source": [
    "#plotting the color values\n",
    "dy= \"Color\"\n",
    "f, ax = plt.subplots(figsize = (7,5))\n",
    "\n",
    "ax = pt.RainCloud(data=plot_data, x=dx, y=dy, \n",
    "palette=colors, bw=sigma, width_viol=.7, ax=ax, orient=ort)\n",
    "\n",
    "plt.suptitle(\"RainCloud plot of the color values\", fontsize=18);\n",
    "plt.title(\"separated by melanoma(1)/non-melanoma(0)\", fontsize=13);\n",
    "\n",
    "if savefigs:\n",
    "    plt.savefig('../figs/figure0203.png', bbox_inches='tight')"
   ]
  },
  {
   "cell_type": "markdown",
   "metadata": {
    "cell_id": "db0462b116374efa9eea9c782d2189f8",
    "deepnote_cell_height": 70,
    "deepnote_cell_type": "markdown",
    "tags": []
   },
   "source": [
    "## Task 3 - predicting the diagnosis"
   ]
  },
  {
   "cell_type": "markdown",
   "metadata": {
    "cell_id": "47bd05c8f99f4ef59a3b35c5a491ff8b",
    "deepnote_cell_height": 88.390625,
    "deepnote_cell_type": "markdown",
    "tags": []
   },
   "source": [
    "#### get_row()\n",
    "`get_row()` returns a dataframe with one row with data about a given picture."
   ]
  },
  {
   "cell_type": "code",
   "execution_count": null,
   "metadata": {
    "cell_id": "4963ba44dcca4f2ca94f4cbda9007013",
    "deepnote_cell_height": 225,
    "deepnote_cell_type": "code",
    "deepnote_to_be_reexecuted": false,
    "execution_millis": 29,
    "execution_start": 1649413257841,
    "source_hash": "7dfc307f",
    "tags": []
   },
   "outputs": [],
   "source": [
    "def get_row(pict, pic):  \n",
    "    assym = pict.get_asymmetry()\n",
    "    comp = pict.get_compactness()\n",
    "    color = pict.get_color_variability()\n",
    "\n",
    "    melanoma = sex_df[sex_df['ISIC'] == pic]['Melanoma'].iloc[0]\n",
    "\n",
    "    return pd.DataFrame([[pic, assym, comp, color, melanoma]], \n",
    "                        columns=['ISIC', 'Asymmetry', 'Compactness', 'Color', 'Melanoma'])"
   ]
  },
  {
   "cell_type": "markdown",
   "metadata": {
    "cell_id": "9e1d413465ec43bb8404213193eeb928",
    "deepnote_cell_height": 88.390625,
    "deepnote_cell_type": "markdown",
    "tags": []
   },
   "source": [
    "#### create_df()\n",
    "`create_df()` takes a set of image IDs and returns a pandas dataframe with the calculated features for each image "
   ]
  },
  {
   "cell_type": "code",
   "execution_count": null,
   "metadata": {
    "cell_id": "0235fe15857f44c4a5dc8ca1f821ae3c",
    "deepnote_cell_height": 261,
    "deepnote_cell_type": "code",
    "deepnote_to_be_reexecuted": false,
    "execution_millis": 2,
    "execution_start": 1649413257883,
    "source_hash": "fcbf63ec",
    "tags": []
   },
   "outputs": [],
   "source": [
    "def create_df(img_names):\n",
    "    features_df = pd.DataFrame(columns=['ISIC', 'Asymmetry', 'Compactness', 'Color', 'Melanoma'])\n",
    "    for pic in img_names:\n",
    "        img_bw = Image.open(Config.mask_path + os.sep + pic + '_segmentation.png') # open mask image\n",
    "\n",
    "        img = plt.imread(Config.images_path + os.sep + pic + '.jpg') # open image\n",
    "        pict = Picture(img = img, img_bw = img_bw)\n",
    "        tempdf = get_row(pict, pic)\n",
    "        features_df = pd.concat([features_df, tempdf], axis=0, ignore_index=True)\n",
    "\n",
    "    return features_df"
   ]
  },
  {
   "cell_type": "code",
   "execution_count": null,
   "metadata": {
    "cell_id": "bd53e01a884d4b0c89a17bef6dc1b5e6",
    "deepnote_cell_height": 207,
    "deepnote_cell_type": "code",
    "deepnote_to_be_reexecuted": false,
    "execution_millis": 3,
    "execution_start": 1649413257896,
    "source_hash": "569b293d",
    "tags": []
   },
   "outputs": [],
   "source": [
    "def normalise_df(X_dev, X_test):\n",
    "    f=[\"Asymmetry\",\"Compactness\", \"Color\"]\n",
    "\n",
    "    scaler = StandardScaler().fit(X_dev) # (x - mu) / std\n",
    "    X_dev = pd.DataFrame(scaler.transform(X_dev), columns=f)\n",
    "    X_test = pd.DataFrame(scaler.transform(X_test), columns=f)\n",
    "\n",
    "    return X_dev, X_test"
   ]
  },
  {
   "cell_type": "markdown",
   "metadata": {
    "cell_id": "8a2961390939477dbb03d9de6ffee0ec",
    "deepnote_cell_height": 54,
    "deepnote_cell_type": "markdown",
    "tags": []
   },
   "source": [
    "#### Classifier training and evaluation"
   ]
  },
  {
   "cell_type": "code",
   "execution_count": null,
   "metadata": {
    "cell_id": "08b03e6214bc46ed9eaf0c4279bb6eeb",
    "deepnote_cell_height": 351,
    "deepnote_cell_type": "code",
    "deepnote_to_be_reexecuted": false,
    "execution_millis": 5,
    "execution_start": 1649413257901,
    "source_hash": "33721873",
    "tags": []
   },
   "outputs": [],
   "source": [
    "def tree_classifier(X_train, X_val, y_train, y_val, to_pickle=False):\n",
    "    tree = DecisionTreeClassifier()\n",
    "    treetrained = tree.fit(X_train, y_train)\n",
    "\n",
    "\n",
    "    tree_proba_prediction = tree.predict_proba(X_val)\n",
    "    tree_prediction = treetrained.predict(X_val)\n",
    "\n",
    "    fpr, tpr, threshold = roc_curve(y_val, tree_proba_prediction[:, 1])\n",
    "    roc_auc = auc(fpr, tpr)\n",
    "\n",
    "    if to_pickle:\n",
    "        with open('treeclassifier.pickle', 'wb') as outfile:\n",
    "            pickle.dump(treetrained, outfile)\n",
    "\n",
    "    return fpr, tpr, roc_auc, tree_proba_prediction, tree_prediction, treetrained"
   ]
  },
  {
   "cell_type": "code",
   "execution_count": null,
   "metadata": {
    "cell_id": "47c60d71827c40b18803779ca9cdc74e",
    "deepnote_cell_height": 261,
    "deepnote_cell_type": "code",
    "deepnote_to_be_reexecuted": false,
    "execution_millis": 2,
    "execution_start": 1649413257911,
    "source_hash": "e098d4bc",
    "tags": []
   },
   "outputs": [],
   "source": [
    "# Reporting classifier tests\n",
    "def test_classifier(X_test, y_test, treetrained):\n",
    "\n",
    "    tree_prediction = treetrained.predict(X_test)\n",
    "\n",
    "    acc_test = accuracy_score(y_test, tree_prediction)\n",
    "    auc_test = roc_auc_score(y_test, tree_prediction)\n",
    "\n",
    "    print(f'The accuracy score for the test set is {acc_test}')\n",
    "    print(f'The roc auc score for the test set is {auc_test}')\n"
   ]
  },
  {
   "cell_type": "markdown",
   "metadata": {
    "cell_id": "569cc5e4d9b5485dabeefb161b2b6ffe",
    "deepnote_cell_height": 54,
    "deepnote_cell_type": "markdown",
    "tags": []
   },
   "source": [
    "#### Plotting roc curve and confusion matrix"
   ]
  },
  {
   "cell_type": "code",
   "execution_count": null,
   "metadata": {
    "cell_id": "da4bb3bbbf7e4c2c92b2209c0116198d",
    "deepnote_cell_height": 441,
    "deepnote_cell_type": "code",
    "deepnote_to_be_reexecuted": false,
    "execution_millis": 0,
    "execution_start": 1649413737697,
    "source_hash": "11b83dfe",
    "tags": []
   },
   "outputs": [],
   "source": [
    "def plot_roc_curve(fpr, tpr, roc_auc):\n",
    "    ''' function that plots an roc curve '''\n",
    "    f, ax = plt.subplots(figsize=(10,7))\n",
    "    plt.plot(fpr, tpr, 'b', label = 'AUC = %0.2f' % roc_auc)\n",
    "    plt.plot([0, 1], [0, 1],'r--')\n",
    "\n",
    "    #adding a legend\n",
    "    plt.legend(loc = 'lower right')\n",
    "\n",
    "    #setting x and y limits\n",
    "    plt.xlim([0, 1])\n",
    "    plt.ylim([0, 1])\n",
    "\n",
    "    #adding labels and titles\n",
    "    plt.ylabel('True Positive Rate')\n",
    "    plt.xlabel('False Positive Rate')\n",
    "    plt.title('ROC Curve of classifier', fontsize=10)\n",
    "    plt.suptitle('Receiver Operating Characteristic', fontsize=18)\n",
    "\n",
    "    if savefigs:\n",
    "        plt.savefig('../figs/figure0301.png', bbox_inches='tight')"
   ]
  },
  {
   "cell_type": "code",
   "execution_count": null,
   "metadata": {
    "cell_id": "7ae4f527e32d4b65992a73259f500617",
    "deepnote_cell_height": 423,
    "deepnote_cell_type": "code",
    "deepnote_to_be_reexecuted": false,
    "execution_millis": 0,
    "execution_start": 1649413768285,
    "source_hash": "1f560cb0",
    "tags": []
   },
   "outputs": [],
   "source": [
    "def plot_confusion_matrix(X_val, y_val,treetrained,tree_prediction):\n",
    "    ''' function that plots a confusion matrix for our ml model '''\n",
    "    \n",
    "    f, ax = plt.subplots(figsize=(10,7))\n",
    "    roc = roc_auc_score(y_val, tree_prediction)\n",
    "    cf_matrix = confusion_matrix(y_val, tree_prediction)\n",
    "    ax1 = sns.heatmap(cf_matrix/np.sum(cf_matrix), annot=True, \n",
    "                fmt='.2%', cmap='Blues')\n",
    "\n",
    "    #set title and labels of the axes\n",
    "    ax.set_title('Confusion Matrix of the actual values and our predicted values');\n",
    "    ax.set_xlabel('\\nPredicted Values')\n",
    "    ax.set_ylabel('Actual Values ');\n",
    "\n",
    "    # Ticket labels - List must be in alphabetical order\n",
    "    ax.xaxis.set_ticklabels(['False','True'])\n",
    "    ax.yaxis.set_ticklabels(['False','True'])\n",
    "\n",
    "    if savefigs:\n",
    "        plt.savefig('../figs/figure0302.png', bbox_inches='tight')"
   ]
  },
  {
   "cell_type": "markdown",
   "metadata": {
    "cell_id": "e362e1dc271949fba63662260fa54235",
    "deepnote_cell_height": 145.1875,
    "deepnote_cell_type": "markdown",
    "tags": []
   },
   "source": [
    "### Main()\n",
    "The `main()` functon iterates over each image, creates an instance of the `Picture` class, and adds a row to a dataframe with all functions using the `get_row()` function. Ultimately, it returns the `train_evaluate_classifiers()` function with the dataframe mentioned above as the attribute."
   ]
  },
  {
   "cell_type": "code",
   "execution_count": null,
   "metadata": {
    "cell_id": "bd6273f123ac4d499ad92c9ff0f12293",
    "deepnote_cell_height": 171,
    "deepnote_cell_type": "code",
    "deepnote_to_be_reexecuted": false,
    "execution_millis": 46,
    "execution_start": 1649413257933,
    "source_hash": "f7dadfd6",
    "tags": []
   },
   "outputs": [],
   "source": [
    "#merging\n",
    "female_df = pd.read_csv(Config.female_features_path)\n",
    "male_df = pd.read_csv(Config.male_features_path)\n",
    "\n",
    "sex_df = pd.concat([female_df, male_df], axis=0)\n",
    "#all_df.to_csv('../features/sex_features.csv')"
   ]
  },
  {
   "cell_type": "code",
   "execution_count": null,
   "metadata": {
    "cell_id": "a9233d92d18140b59abe0c01874cf534",
    "deepnote_cell_height": 549,
    "deepnote_cell_type": "code",
    "deepnote_to_be_reexecuted": false,
    "execution_millis": 1,
    "execution_start": 1649413359231,
    "source_hash": "56c21f6c",
    "tags": []
   },
   "outputs": [],
   "source": [
    "def main(df, to_plot=True, to_return=False):\n",
    "    image_names = [ID for ID in sex_df['ISIC']] \n",
    "    #features_df = create_df(image_names)\n",
    "    features_df = df\n",
    "\n",
    "    X = features_df[[\"Asymmetry\",\"Compactness\", \"Color\"]]\n",
    "    y = features_df[\"Melanoma\"]\n",
    "\n",
    "    oversample = RandomOverSampler(sampling_strategy=0.5)\n",
    "    X_over, y_over = oversample.fit_resample(X, y)\n",
    "    \n",
    "    X_dev, X_test, y_dev, y_test = train_test_split(X_over, y_over, stratify=y_over, random_state=0)\n",
    "\n",
    "    X_dev, X_test= normalise_df(X_dev, X_test)\n",
    "\n",
    "    X_train, X_val, y_train, y_val = train_test_split(X_dev, y_dev, stratify=y_dev)\n",
    "    \n",
    "    fpr, tpr, roc_auc, tree_proba_prediction, tree_prediction, treetrained = tree_classifier(X_train, X_val, y_train, y_val)\n",
    "\n",
    "\n",
    "    if to_plot:\n",
    "        test_classifier(X_test, y_test, treetrained)\n",
    "        plot_roc_curve(fpr, tpr, roc_auc)\n",
    "        plot_confusion_matrix(X_val, y_val, treetrained, tree_prediction) \n",
    "\n",
    "    if to_return:\n",
    "        return tree_prediction, y_val"
   ]
  },
  {
   "cell_type": "code",
   "execution_count": null,
   "metadata": {
    "cell_id": "9026059fa15b45b6bb4ce002ff2f52a4",
    "deepnote_cell_height": 1416,
    "deepnote_cell_type": "code",
    "deepnote_output_heights": [
     606.1875,
     478,
     455,
     611,
     21.1875
    ],
    "deepnote_to_be_reexecuted": false,
    "execution_millis": 1774,
    "execution_start": 1649413771919,
    "owner_user_id": "888020a8-8b63-449c-bc54-86abae3fd658",
    "source_hash": "226bb05f",
    "tags": []
   },
   "outputs": [
    {
     "name": "stdout",
     "output_type": "stream",
     "text": [
      "The accuracy score for the test set is 0.7988826815642458\n",
      "The roc auc score for the test set is 0.797486033519553\n"
     ]
    },
    {
     "data": {
      "image/png": "[encoded data removed]",
      "text/plain": [
       "<Figure size 720x504 with 1 Axes>"
      ]
     },
     "metadata": {
      "needs_background": "light"
     },
     "output_type": "display_data"
    },
    {
     "data": {
      "image/png": "[encoded data removed]",
      "text/plain": [
       "<Figure size 720x504 with 2 Axes>"
      ]
     },
     "metadata": {
      "needs_background": "light"
     },
     "output_type": "display_data"
    }
   ],
   "source": [
    "main(sex_df)"
   ]
  },
  {
   "cell_type": "markdown",
   "metadata": {
    "cell_id": "1b53e49c855b44239e9de6d4671532e6",
    "deepnote_cell_height": 70,
    "deepnote_cell_type": "markdown",
    "tags": []
   },
   "source": [
    "## Task 4 - Does our algorithm perform better among women? "
   ]
  },
  {
   "cell_type": "markdown",
   "metadata": {
    "cell_id": "6b645756794041aa8e60e5f07ac609b6",
    "deepnote_cell_height": 52.390625,
    "deepnote_cell_type": "markdown",
    "tags": []
   },
   "source": [
    "For this task we want to test whether our classifier works better for women than for men. "
   ]
  },
  {
   "cell_type": "code",
   "execution_count": null,
   "metadata": {
    "cell_id": "f448e6c70ec74ca2ac806c784b708997",
    "deepnote_cell_height": 818,
    "deepnote_cell_type": "code",
    "deepnote_to_be_reexecuted": false,
    "execution_millis": 7849,
    "execution_start": 1649413363265,
    "source_hash": "e1caaf5f",
    "tags": []
   },
   "outputs": [
    {
     "name": "stdout",
     "output_type": "stream",
     "text": [
      "Female mean scores;         acc: 0.823         roc: 0.833         bal: 0.833\n",
      "===============================\n",
      "Male mean scores;         acc: 0.713         roc: 0.7         bal: 0.7\n"
     ]
    }
   ],
   "source": [
    "female_acc = []\n",
    "female_roc = []\n",
    "female_bal = []\n",
    "male_acc = []\n",
    "male_roc = []\n",
    "male_bal = []\n",
    "n = 100\n",
    "\n",
    "\n",
    "for _ in range(n):\n",
    "    #predicting for women\n",
    "    prediction, y_val = main(female_df, to_plot=False, to_return=True)\n",
    "    female_acc.append(accuracy_score(y_val, prediction))\n",
    "    female_roc.append(roc_auc_score(y_val, prediction))\n",
    "    female_bal.append(balanced_accuracy_score(y_val,prediction))\n",
    "\n",
    "for _ in range(n):\n",
    "    #predicting for men\n",
    "    prediction, y_val = main(male_df, to_plot=False, to_return=True)\n",
    "    male_acc.append(accuracy_score(y_val, prediction))\n",
    "    male_roc.append(roc_auc_score(y_val, prediction))\n",
    "    male_bal.append(balanced_accuracy_score(y_val,prediction))\n",
    "\n",
    "\n",
    "print(f'Female mean scores; \\\n",
    "        acc: {round(np.mean(female_acc),3)} \\\n",
    "        roc: {round(np.mean(female_roc),3)} \\\n",
    "        bal: {round(np.mean(female_bal),3)}')\n",
    "\n",
    "print('===============================')\n",
    "\n",
    "print(f'Male mean scores; \\\n",
    "        acc: {round(np.mean(male_acc),3)} \\\n",
    "        roc: {round(np.mean(male_roc),3)} \\\n",
    "        bal: {round(np.mean(male_bal),3)}')\n",
    "\n",
    "\n"
   ]
  },
  {
   "cell_type": "code",
   "execution_count": null,
   "metadata": {
    "cell_id": "df693023ab7e4abca43b8f669bf4952b",
    "deepnote_cell_height": 66,
    "deepnote_cell_type": "code",
    "tags": []
   },
   "outputs": [],
   "source": []
  },
  {
   "cell_type": "markdown",
   "metadata": {
    "created_in_deepnote_cell": true,
    "deepnote_cell_type": "markdown",
    "tags": []
   },
   "source": [
    "<a style='text-decoration:none;line-height:16px;display:flex;color:#5B5B62;padding:10px;justify-content:end;' href='https://deepnote.com?utm_source=created-in-deepnote-cell&projectId=932aa97b-f6d2-4889-8f04-d6166675cc2f' target=\"_blank\">\n",
    "<img alt='Created in deepnote.com' style='display:inline;max-height:16px;margin:0px;margin-right:7.5px;' src='data:image/svg+xml;base64,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' > </img>\n",
    "Created in <span style='font-weight:600;margin-left:4px;'>Deepnote</span></a>"
   ]
  }
 ],
 "metadata": {
  "deepnote": {
   "is_reactive": false
  },
  "deepnote_execution_queue": [],
  "deepnote_notebook_id": "480f9d89-0fde-4853-9b6b-44c97760ba54",
  "kernelspec": {
   "display_name": "Python 3.9.12 64-bit (windows store)",
   "language": "python",
   "name": "python3"
  },
  "language_info": {
   "codemirror_mode": {
    "name": "ipython",
    "version": 3
   },
   "file_extension": ".py",
   "mimetype": "text/x-python",
   "name": "python",
   "nbconvert_exporter": "python",
   "pygments_lexer": "ipython3",
   "version": "3.9.13"
  },
  "orig_nbformat": 2,
  "vscode": {
   "interpreter": {
    "hash": "6caa902b83fe2897d0ffba23c77d255a296c8d0fb049a5a331b584ad35577c02"
   }
  }
 },
 "nbformat": 4,
 "nbformat_minor": 2
}
